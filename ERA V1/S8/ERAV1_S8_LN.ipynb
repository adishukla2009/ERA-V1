{
  "nbformat": 4,
  "nbformat_minor": 0,
  "metadata": {
    "colab": {
      "provenance": [],
      "gpuType": "T4"
    },
    "kernelspec": {
      "name": "python3",
      "display_name": "Python 3"
    },
    "language_info": {
      "name": "python"
    },
    "accelerator": "GPU"
  },
  "cells": [
    {
      "cell_type": "markdown",
      "source": [
        "**Import libraries**"
      ],
      "metadata": {
        "id": "uL8Q7ydwJpfD"
      }
    },
    {
      "cell_type": "code",
      "execution_count": 2,
      "metadata": {
        "id": "JCtePHfNHah0"
      },
      "outputs": [],
      "source": [
        "from __future__ import print_function\n",
        "import torch\n",
        "import torch.nn as nn\n",
        "import torch.nn.functional as F\n",
        "import torch.optim as optim\n",
        "from torchvision import datasets, transforms"
      ]
    },
    {
      "cell_type": "markdown",
      "source": [
        "**Transformations**"
      ],
      "metadata": {
        "id": "VZKnOD2UKgFH"
      }
    },
    {
      "cell_type": "code",
      "source": [
        "# Train Phase transformations\n",
        "train_transforms = transforms.Compose([\n",
        "                                       transforms.ColorJitter(brightness=0.10, contrast=0.1, saturation=0.10, hue=0.1),\n",
        "                                       transforms.RandomHorizontalFlip(p=0.3),\n",
        "                                       transforms.RandomRotation((-7.0, 7.0), fill=(1,1,1)),\n",
        "                                       transforms.ToTensor(),\n",
        "                                       transforms.Normalize( (0.49139968, 0.48215827 ,0.44653124), (0.24703233, 0.24348505, 0.26158768) ), # The mean and std\n",
        "                                       ])\n",
        "\n",
        "# Test Phase transformations\n",
        "test_transforms = transforms.Compose([\n",
        "                                       transforms.ToTensor(),\n",
        "                                       transforms.Normalize((0.49139968, 0.48215827 ,0.44653124), (0.24703233, 0.24348505, 0.26158768)), # The mean and std\n",
        "                                       ])\n",
        "\n"
      ],
      "metadata": {
        "id": "57b0lZkrKJLv"
      },
      "execution_count": 3,
      "outputs": []
    },
    {
      "cell_type": "markdown",
      "source": [
        "**Creating test / train split and downloading data**\n",
        "\n"
      ],
      "metadata": {
        "id": "Lh8XProZNVR0"
      }
    },
    {
      "cell_type": "code",
      "source": [
        "\n",
        "train = datasets.CIFAR10('./data', train=True, download=True, transform=train_transforms)\n",
        "test = datasets.CIFAR10('./data', train=False, download=True, transform=test_transforms)"
      ],
      "metadata": {
        "colab": {
          "base_uri": "https://localhost:8080/"
        },
        "id": "saL2pKU8M391",
        "outputId": "2860ac38-0401-4fc7-fd89-455a609f2deb"
      },
      "execution_count": 4,
      "outputs": [
        {
          "output_type": "stream",
          "name": "stdout",
          "text": [
            "Downloading https://www.cs.toronto.edu/~kriz/cifar-10-python.tar.gz to ./data/cifar-10-python.tar.gz\n"
          ]
        },
        {
          "output_type": "stream",
          "name": "stderr",
          "text": [
            "100%|██████████| 170498071/170498071 [00:02<00:00, 63846554.62it/s]\n"
          ]
        },
        {
          "output_type": "stream",
          "name": "stdout",
          "text": [
            "Extracting ./data/cifar-10-python.tar.gz to ./data\n",
            "Files already downloaded and verified\n"
          ]
        }
      ]
    },
    {
      "cell_type": "markdown",
      "source": [
        "**Data loader arguments and test train data loaders**"
      ],
      "metadata": {
        "id": "MqTwQJmnN9Rv"
      }
    },
    {
      "cell_type": "code",
      "source": [
        "SEED = 1\n",
        "\n",
        "# CUDA?\n",
        "cuda = torch.cuda.is_available()\n",
        "print(\"CUDA Available?\", cuda)\n",
        "\n",
        "# For reproducibility\n",
        "torch.manual_seed(SEED)\n",
        "\n",
        "if cuda:\n",
        "    torch.cuda.manual_seed(SEED)\n",
        "\n",
        "# dataloader arguments - something you'll fetch these from cmdprmt\n",
        "dataloader_args = dict(shuffle=True, batch_size=128, num_workers=2, pin_memory=True) if cuda else dict(shuffle=True, batch_size=64)\n",
        "\n",
        "# train dataloader\n",
        "train_loader = torch.utils.data.DataLoader(train, **dataloader_args)\n",
        "\n",
        "# test dataloader\n",
        "test_loader = torch.utils.data.DataLoader(test, **dataloader_args)"
      ],
      "metadata": {
        "colab": {
          "base_uri": "https://localhost:8080/"
        },
        "id": "OyoGjq9_OEX7",
        "outputId": "19064034-63c0-4b09-cbd7-a5ee25fedfb4"
      },
      "execution_count": 5,
      "outputs": [
        {
          "output_type": "stream",
          "name": "stdout",
          "text": [
            "CUDA Available? True\n"
          ]
        }
      ]
    },
    {
      "cell_type": "markdown",
      "source": [
        "**Model**"
      ],
      "metadata": {
        "id": "Ssn4MpegP2U5"
      }
    },
    {
      "cell_type": "code",
      "source": [
        "import torch\n",
        "import torch.nn as nn\n",
        "import torch.nn.functional as F\n",
        "\n",
        "class Net(nn.Module):\n",
        "    def __init__(self, norm='LN',groupsize=2,drop=0.05):\n",
        "        super(Net, self).__init__()\n",
        "\n",
        "        # CONVOLUTION BLOCK 1\n",
        "        self.convblock1 = nn.Sequential(\n",
        "            nn.Conv2d(in_channels=3, out_channels=32, kernel_size=(3, 3), padding=1, bias=False),\n",
        "            nn.ReLU(),\n",
        "            self.net_norm(norm,32,groupsize),\n",
        "            nn.Dropout(drop),\n",
        "            nn.Conv2d(in_channels=32, out_channels=54, kernel_size=(3, 3), padding=1, bias=False),\n",
        "            nn.ReLU(),\n",
        "            self.net_norm(norm,54,groupsize),\n",
        "            nn.Dropout(drop),\n",
        "            nn.Conv2d(in_channels=54, out_channels=10, kernel_size=(1, 1), padding=0, bias=False)\n",
        "        )\n",
        "\n",
        "        # CONVOLUTION BLOCK 2\n",
        "        self.convblock2 = nn.Sequential(\n",
        "            nn.Conv2d(in_channels=10, out_channels=16, kernel_size=(3, 3), padding=1, bias=False),\n",
        "            nn.ReLU(),\n",
        "            self.net_norm(norm,16,groupsize),\n",
        "            nn.Dropout(drop),\n",
        "            nn.Conv2d(in_channels=16, out_channels=16, kernel_size=(3, 3), padding=1, bias=False),\n",
        "            nn.ReLU(),\n",
        "            self.net_norm(norm,16,groupsize),\n",
        "            nn.Dropout(drop),\n",
        "            nn.Conv2d(in_channels=16, out_channels=32, kernel_size=(3, 3), padding=1, bias=False),\n",
        "            nn.ReLU(),\n",
        "            self.net_norm(norm,32,groupsize),\n",
        "            nn.Dropout(drop),\n",
        "            nn.Conv2d(in_channels=32, out_channels=16, kernel_size=(1, 1), padding=0, bias=False)\n",
        "        )\n",
        "\n",
        "        self.pool1 = nn.MaxPool2d(2, 2)\n",
        "\n",
        "        # CONVOLUTION BLOCK 3\n",
        "        self.convblock3 = nn.Sequential(\n",
        "            nn.Conv2d(in_channels=16, out_channels=32, kernel_size=(3, 3), padding=1, bias=False),\n",
        "            nn.ReLU(),\n",
        "            self.net_norm(norm,32,groupsize),\n",
        "            nn.Dropout(drop),\n",
        "            nn.Conv2d(in_channels=32, out_channels=32, kernel_size=(3, 3), padding=1, bias=False),\n",
        "            nn.ReLU(),\n",
        "            self.net_norm(norm,32,groupsize),\n",
        "            nn.Dropout(drop),\n",
        "            nn.Conv2d(in_channels=32, out_channels=32, kernel_size=(3, 3), padding=1, bias=False),\n",
        "            nn.ReLU(),\n",
        "            self.net_norm(norm,32,groupsize),\n",
        "            nn.Dropout(drop),\n",
        "        )\n",
        "\n",
        "        self.pool2 = nn.AvgPool2d(kernel_size=8)\n",
        "\n",
        "        # CONVOLUTION BLOCK 4\n",
        "        self.convblock4 = nn.Sequential(\n",
        "            nn.Conv2d(in_channels=32, out_channels=10, kernel_size=(1, 1), padding=0, bias=False)\n",
        "        )\n",
        "\n",
        "    def forward(self, x):\n",
        "        x = self.pool1(self.convblock1(x))\n",
        "        x = self.pool1(self.convblock2(x))\n",
        "        x = self.pool2(self.convblock3(x))\n",
        "        x = self.convblock4(x)\n",
        "        x = x.view(-1, 10)\n",
        "        return F.log_softmax(x, dim=-1)\n",
        "\n",
        "    def net_norm(self, norm, channels,groupsize=2):\n",
        "        if norm == 'BN':\n",
        "            return nn.BatchNorm2d(channels)\n",
        "        elif norm == 'LN':\n",
        "            return nn.GroupNorm(1,channels) #(equivalent with LayerNorm)\n",
        "        elif norm == 'GN':\n",
        "            return nn.GroupNorm(groupsize,channels) #groups=2"
      ],
      "metadata": {
        "id": "H0761WifOVxH"
      },
      "execution_count": 6,
      "outputs": []
    },
    {
      "cell_type": "code",
      "source": [
        "from tqdm import tqdm\n",
        "import numpy as np\n",
        "\n",
        "def train(model, device, train_loader, optimizer, epoch, train_losses, train_acc):\n",
        "  model.train()\n",
        "  pbar = tqdm(train_loader)\n",
        "  correct = 0\n",
        "  processed = 0\n",
        "  for batch_idx, (data, target) in enumerate(pbar):\n",
        "    # get samples\n",
        "    data, target = data.to(device), target.to(device)\n",
        "\n",
        "    # Init\n",
        "    optimizer.zero_grad()\n",
        "\n",
        "    # Predict\n",
        "    y_pred = model(data)\n",
        "\n",
        "    # Calculate loss\n",
        "    loss = F.nll_loss(y_pred, target)\n",
        "    train_losses.append(loss)\n",
        "\n",
        "    # Backpropagation\n",
        "    loss.backward()\n",
        "    optimizer.step()\n",
        "\n",
        "    # Update pbar-tqdm\n",
        "\n",
        "    pred = y_pred.argmax(dim=1, keepdim=True)  # get the index of the max log-probability\n",
        "    correct += pred.eq(target.view_as(pred)).sum().item()\n",
        "    processed += len(data)\n",
        "\n",
        "    pbar.set_description(desc= f'Loss={loss.item()} Batch_id={batch_idx} Accuracy={100*correct/processed:0.2f}')\n",
        "    train_acc.append(100*correct/processed)\n",
        "\n",
        "def test(model, device, test_loader, test_losses, test_acc):\n",
        "    model.eval()\n",
        "    test_loss = 0\n",
        "    correct = 0\n",
        "    with torch.no_grad():\n",
        "        for data, target in test_loader:\n",
        "            data, target = data.to(device), target.to(device)\n",
        "            output = model(data)\n",
        "            test_loss += F.nll_loss(output, target, reduction='sum').item()  # sum up batch loss\n",
        "            pred = output.argmax(dim=1, keepdim=True)  # get the index of the max log-probability\n",
        "            correct += pred.eq(target.view_as(pred)).sum().item()\n",
        "\n",
        "    test_loss /= len(test_loader.dataset)\n",
        "    test_losses.append(test_loss)\n",
        "\n",
        "    print('\\nTest set: Average loss: {:.4f}, Accuracy: {}/{} ({:.2f}%)\\n'.format(\n",
        "        test_loss, correct, len(test_loader.dataset),\n",
        "        100. * correct / len(test_loader.dataset)))\n",
        "\n",
        "    test_acc.append(100. * correct / len(test_loader.dataset))\n",
        "\n",
        "def print_graph(train_losses,train_acc, test_losses,test_acc):\n",
        "    fig, axs = plt.subplots(2,2,figsize=(15,10))\n",
        "    axs[0, 0].plot(train_losses)\n",
        "    axs[0, 0].set_title(\"Training Loss\")\n",
        "    axs[1, 0].plot(train_acc)\n",
        "    axs[1, 0].set_title(\"Training Accuracy\")\n",
        "    axs[0, 1].plot(test_losses)\n",
        "    axs[0, 1].set_title(\"Test Loss\")\n",
        "    axs[1, 1].plot(test_acc)\n",
        "    axs[1, 1].set_title(\"Test Accuracy\")\n",
        "\n",
        "def show_images(loader):\n",
        "    classes = ['plane', 'car', 'bird', 'cat', 'deer', 'dog', 'frog', 'horse', 'ship', 'truck']\n",
        "\n",
        "    dataiter = iter(loader)\n",
        "    images, labels = next(dataiter)\n",
        "\n",
        "    num_of_images = 10\n",
        "    fig = plt.figure(figsize=(10,5))\n",
        "\n",
        "    for index in range(1, num_of_images+1):\n",
        "        ax = fig.add_subplot(2, 5, index)\n",
        "        ax.axis('off')\n",
        "        actual = classes[labels[index]]\n",
        "        ax.set_title(f'\\n Label : {actual}',fontsize=10)\n",
        "        ax.imshow(np.transpose(images[index], (1, 2, 0)))\n",
        "\n",
        "def display_incorrect_images(mismatch, n=20 ):\n",
        "    classes = ['plane', 'car', 'bird', 'cat', 'deer', 'dog', 'frog', 'horse', 'ship', 'truck']\n",
        "    display_images = mismatch[:n]\n",
        "    index = 0\n",
        "    fig = plt.figure(figsize=(10,5))\n",
        "    for img in display_images:\n",
        "        image = img[0].squeeze().to('cpu').numpy()\n",
        "        pred = classes[img[1]]\n",
        "        actual = classes[img[2]]\n",
        "        ax = fig.add_subplot(2, 5, index+1)\n",
        "        ax.axis('off')\n",
        "        ax.set_title(f'\\n Predicted Label : {pred} \\n Actual Label : {actual}',fontsize=10)\n",
        "        ax.imshow(np.transpose(image, (1, 2, 0)))\n",
        "        index = index + 1\n",
        "    plt.show()"
      ],
      "metadata": {
        "id": "o189qDORT47j"
      },
      "execution_count": 7,
      "outputs": []
    },
    {
      "cell_type": "markdown",
      "source": [
        "**Model Summary**"
      ],
      "metadata": {
        "id": "LLHEo148YrC2"
      }
    },
    {
      "cell_type": "code",
      "source": [
        "\n",
        "\n",
        "#!pip install torchsummary\n",
        "from torchsummary import summary\n",
        "use_cuda = torch.cuda.is_available()\n",
        "device = torch.device(\"cuda\" if use_cuda else \"cpu\")\n",
        "print(device)\n",
        "model = Net(norm='LN').to(device)\n",
        "summary(model, input_size=(3, 32, 32))"
      ],
      "metadata": {
        "colab": {
          "base_uri": "https://localhost:8080/"
        },
        "id": "H642S2S5YdCV",
        "outputId": "1f3b0061-d237-42dc-9229-335f2297e483"
      },
      "execution_count": 8,
      "outputs": [
        {
          "output_type": "stream",
          "name": "stdout",
          "text": [
            "cuda\n",
            "----------------------------------------------------------------\n",
            "        Layer (type)               Output Shape         Param #\n",
            "================================================================\n",
            "            Conv2d-1           [-1, 32, 32, 32]             864\n",
            "              ReLU-2           [-1, 32, 32, 32]               0\n",
            "         GroupNorm-3           [-1, 32, 32, 32]              64\n",
            "           Dropout-4           [-1, 32, 32, 32]               0\n",
            "            Conv2d-5           [-1, 54, 32, 32]          15,552\n",
            "              ReLU-6           [-1, 54, 32, 32]               0\n",
            "         GroupNorm-7           [-1, 54, 32, 32]             108\n",
            "           Dropout-8           [-1, 54, 32, 32]               0\n",
            "            Conv2d-9           [-1, 10, 32, 32]             540\n",
            "        MaxPool2d-10           [-1, 10, 16, 16]               0\n",
            "           Conv2d-11           [-1, 16, 16, 16]           1,440\n",
            "             ReLU-12           [-1, 16, 16, 16]               0\n",
            "        GroupNorm-13           [-1, 16, 16, 16]              32\n",
            "          Dropout-14           [-1, 16, 16, 16]               0\n",
            "           Conv2d-15           [-1, 16, 16, 16]           2,304\n",
            "             ReLU-16           [-1, 16, 16, 16]               0\n",
            "        GroupNorm-17           [-1, 16, 16, 16]              32\n",
            "          Dropout-18           [-1, 16, 16, 16]               0\n",
            "           Conv2d-19           [-1, 32, 16, 16]           4,608\n",
            "             ReLU-20           [-1, 32, 16, 16]               0\n",
            "        GroupNorm-21           [-1, 32, 16, 16]              64\n",
            "          Dropout-22           [-1, 32, 16, 16]               0\n",
            "           Conv2d-23           [-1, 16, 16, 16]             512\n",
            "        MaxPool2d-24             [-1, 16, 8, 8]               0\n",
            "           Conv2d-25             [-1, 32, 8, 8]           4,608\n",
            "             ReLU-26             [-1, 32, 8, 8]               0\n",
            "        GroupNorm-27             [-1, 32, 8, 8]              64\n",
            "          Dropout-28             [-1, 32, 8, 8]               0\n",
            "           Conv2d-29             [-1, 32, 8, 8]           9,216\n",
            "             ReLU-30             [-1, 32, 8, 8]               0\n",
            "        GroupNorm-31             [-1, 32, 8, 8]              64\n",
            "          Dropout-32             [-1, 32, 8, 8]               0\n",
            "           Conv2d-33             [-1, 32, 8, 8]           9,216\n",
            "             ReLU-34             [-1, 32, 8, 8]               0\n",
            "        GroupNorm-35             [-1, 32, 8, 8]              64\n",
            "          Dropout-36             [-1, 32, 8, 8]               0\n",
            "        AvgPool2d-37             [-1, 32, 1, 1]               0\n",
            "           Conv2d-38             [-1, 10, 1, 1]             320\n",
            "================================================================\n",
            "Total params: 49,672\n",
            "Trainable params: 49,672\n",
            "Non-trainable params: 0\n",
            "----------------------------------------------------------------\n",
            "Input size (MB): 0.01\n",
            "Forward/backward pass size (MB): 3.51\n",
            "Params size (MB): 0.19\n",
            "Estimated Total Size (MB): 3.71\n",
            "----------------------------------------------------------------\n"
          ]
        }
      ]
    },
    {
      "cell_type": "code",
      "source": [
        "\n",
        "from tqdm import tqdm\n",
        "\n",
        "train_losses = []\n",
        "test_losses = []\n",
        "train_acc = []\n",
        "test_acc = []"
      ],
      "metadata": {
        "id": "vX008oIrYtVd"
      },
      "execution_count": 9,
      "outputs": []
    },
    {
      "cell_type": "code",
      "source": [
        "\n",
        "from torch.optim.lr_scheduler import StepLR\n",
        "\n",
        "model =  Net(norm='LN').to(device)\n",
        "optimizer = optim.SGD(model.parameters(), lr=0.01, momentum=0.9)\n",
        "#scheduler = StepLR(optimizer, step_size=6, gamma=0.1)\n",
        "EPOCHS = 20\n",
        "for epoch in range(EPOCHS):\n",
        "    print(\"EPOCH:\", epoch + 1 )\n",
        "    train(model, device, train_loader, optimizer, epoch,train_losses, train_acc)\n",
        "    #scheduler.step()\n",
        "    test(model, device, test_loader,test_losses, test_acc)\n",
        ""
      ],
      "metadata": {
        "colab": {
          "base_uri": "https://localhost:8080/"
        },
        "id": "00WPCqY_Yzfx",
        "outputId": "3a9afffc-ef3a-4816-8980-b046fce93e53"
      },
      "execution_count": 12,
      "outputs": [
        {
          "metadata": {
            "tags": null
          },
          "name": "stdout",
          "output_type": "stream",
          "text": [
            "EPOCH: 1\n"
          ]
        },
        {
          "metadata": {
            "tags": null
          },
          "name": "stderr",
          "output_type": "stream",
          "text": [
            "Loss=1.4255441427230835 Batch_id=390 Accuracy=33.65: 100%|██████████| 391/391 [00:47<00:00,  8.20it/s]\n"
          ]
        },
        {
          "metadata": {
            "tags": null
          },
          "name": "stdout",
          "output_type": "stream",
          "text": [
            "\n",
            "Test set: Average loss: 1.4805, Accuracy: 4511/10000 (45.11%)\n",
            "\n",
            "EPOCH: 2\n"
          ]
        },
        {
          "metadata": {
            "tags": null
          },
          "name": "stderr",
          "output_type": "stream",
          "text": [
            "Loss=1.2266061305999756 Batch_id=390 Accuracy=49.48: 100%|██████████| 391/391 [00:45<00:00,  8.64it/s]\n"
          ]
        },
        {
          "metadata": {
            "tags": null
          },
          "name": "stdout",
          "output_type": "stream",
          "text": [
            "\n",
            "Test set: Average loss: 1.2507, Accuracy: 5640/10000 (56.40%)\n",
            "\n",
            "EPOCH: 3\n"
          ]
        },
        {
          "metadata": {
            "tags": null
          },
          "name": "stderr",
          "output_type": "stream",
          "text": [
            "Loss=1.3809654712677002 Batch_id=390 Accuracy=56.74: 100%|██████████| 391/391 [00:45<00:00,  8.63it/s]\n"
          ]
        },
        {
          "metadata": {
            "tags": null
          },
          "name": "stdout",
          "output_type": "stream",
          "text": [
            "\n",
            "Test set: Average loss: 1.0800, Accuracy: 6217/10000 (62.17%)\n",
            "\n",
            "EPOCH: 4\n"
          ]
        },
        {
          "metadata": {
            "tags": null
          },
          "name": "stderr",
          "output_type": "stream",
          "text": [
            "Loss=1.2085835933685303 Batch_id=390 Accuracy=61.05: 100%|██████████| 391/391 [00:45<00:00,  8.56it/s]\n"
          ]
        },
        {
          "metadata": {
            "tags": null
          },
          "name": "stdout",
          "output_type": "stream",
          "text": [
            "\n",
            "Test set: Average loss: 0.9672, Accuracy: 6535/10000 (65.35%)\n",
            "\n",
            "EPOCH: 5\n"
          ]
        },
        {
          "metadata": {
            "tags": null
          },
          "name": "stderr",
          "output_type": "stream",
          "text": [
            "Loss=0.8463255763053894 Batch_id=390 Accuracy=63.84: 100%|██████████| 391/391 [00:49<00:00,  7.89it/s]\n"
          ]
        },
        {
          "metadata": {
            "tags": null
          },
          "name": "stdout",
          "output_type": "stream",
          "text": [
            "\n",
            "Test set: Average loss: 0.9206, Accuracy: 6685/10000 (66.85%)\n",
            "\n",
            "EPOCH: 6\n"
          ]
        },
        {
          "metadata": {
            "tags": null
          },
          "name": "stderr",
          "output_type": "stream",
          "text": [
            "Loss=1.4294136762619019 Batch_id=390 Accuracy=65.44: 100%|██████████| 391/391 [00:45<00:00,  8.57it/s]\n"
          ]
        },
        {
          "metadata": {
            "tags": null
          },
          "name": "stdout",
          "output_type": "stream",
          "text": [
            "\n",
            "Test set: Average loss: 0.9481, Accuracy: 6616/10000 (66.16%)\n",
            "\n",
            "EPOCH: 7\n"
          ]
        },
        {
          "metadata": {
            "tags": null
          },
          "name": "stderr",
          "output_type": "stream",
          "text": [
            "Loss=0.9749043583869934 Batch_id=390 Accuracy=67.32: 100%|██████████| 391/391 [00:45<00:00,  8.51it/s]\n"
          ]
        },
        {
          "metadata": {
            "tags": null
          },
          "name": "stdout",
          "output_type": "stream",
          "text": [
            "\n",
            "Test set: Average loss: 0.8437, Accuracy: 7007/10000 (70.07%)\n",
            "\n",
            "EPOCH: 8\n"
          ]
        },
        {
          "metadata": {
            "tags": null
          },
          "name": "stderr",
          "output_type": "stream",
          "text": [
            "Loss=0.7922428846359253 Batch_id=390 Accuracy=68.45: 100%|██████████| 391/391 [00:45<00:00,  8.64it/s]\n"
          ]
        },
        {
          "metadata": {
            "tags": null
          },
          "name": "stdout",
          "output_type": "stream",
          "text": [
            "\n",
            "Test set: Average loss: 0.8425, Accuracy: 7110/10000 (71.10%)\n",
            "\n",
            "EPOCH: 9\n"
          ]
        },
        {
          "metadata": {
            "tags": null
          },
          "name": "stderr",
          "output_type": "stream",
          "text": [
            "Loss=0.8197792768478394 Batch_id=390 Accuracy=69.92: 100%|██████████| 391/391 [00:45<00:00,  8.54it/s]\n"
          ]
        },
        {
          "metadata": {
            "tags": null
          },
          "name": "stdout",
          "output_type": "stream",
          "text": [
            "\n",
            "Test set: Average loss: 0.8768, Accuracy: 6979/10000 (69.79%)\n",
            "\n",
            "EPOCH: 10\n"
          ]
        },
        {
          "metadata": {
            "tags": null
          },
          "name": "stderr",
          "output_type": "stream",
          "text": [
            "Loss=0.7883023619651794 Batch_id=390 Accuracy=71.18: 100%|██████████| 391/391 [00:45<00:00,  8.59it/s]\n"
          ]
        },
        {
          "metadata": {
            "tags": null
          },
          "name": "stdout",
          "output_type": "stream",
          "text": [
            "\n",
            "Test set: Average loss: 0.7831, Accuracy: 7310/10000 (73.10%)\n",
            "\n",
            "EPOCH: 11\n"
          ]
        },
        {
          "metadata": {
            "tags": null
          },
          "name": "stderr",
          "output_type": "stream",
          "text": [
            "Loss=0.7818209528923035 Batch_id=390 Accuracy=72.11: 100%|██████████| 391/391 [00:45<00:00,  8.59it/s]\n"
          ]
        },
        {
          "metadata": {
            "tags": null
          },
          "name": "stdout",
          "output_type": "stream",
          "text": [
            "\n",
            "Test set: Average loss: 0.7281, Accuracy: 7452/10000 (74.52%)\n",
            "\n",
            "EPOCH: 12\n"
          ]
        },
        {
          "output_type": "stream",
          "name": "stderr",
          "text": [
            "Loss=0.7420499324798584 Batch_id=390 Accuracy=72.81: 100%|██████████| 391/391 [00:46<00:00,  8.40it/s]\n"
          ]
        },
        {
          "output_type": "stream",
          "name": "stdout",
          "text": [
            "\n",
            "Test set: Average loss: 0.7837, Accuracy: 7293/10000 (72.93%)\n",
            "\n",
            "EPOCH: 13\n"
          ]
        },
        {
          "output_type": "stream",
          "name": "stderr",
          "text": [
            "Loss=0.7697718143463135 Batch_id=390 Accuracy=73.60: 100%|██████████| 391/391 [00:46<00:00,  8.48it/s]\n"
          ]
        },
        {
          "output_type": "stream",
          "name": "stdout",
          "text": [
            "\n",
            "Test set: Average loss: 0.7356, Accuracy: 7462/10000 (74.62%)\n",
            "\n",
            "EPOCH: 14\n"
          ]
        },
        {
          "output_type": "stream",
          "name": "stderr",
          "text": [
            "Loss=0.5110829472541809 Batch_id=390 Accuracy=74.09: 100%|██████████| 391/391 [00:45<00:00,  8.51it/s]\n"
          ]
        },
        {
          "output_type": "stream",
          "name": "stdout",
          "text": [
            "\n",
            "Test set: Average loss: 0.6921, Accuracy: 7551/10000 (75.51%)\n",
            "\n",
            "EPOCH: 15\n"
          ]
        },
        {
          "output_type": "stream",
          "name": "stderr",
          "text": [
            "Loss=0.8692392110824585 Batch_id=390 Accuracy=74.67: 100%|██████████| 391/391 [00:46<00:00,  8.46it/s]\n"
          ]
        },
        {
          "output_type": "stream",
          "name": "stdout",
          "text": [
            "\n",
            "Test set: Average loss: 0.6853, Accuracy: 7606/10000 (76.06%)\n",
            "\n",
            "EPOCH: 16\n"
          ]
        },
        {
          "output_type": "stream",
          "name": "stderr",
          "text": [
            "Loss=0.5903362035751343 Batch_id=390 Accuracy=75.29: 100%|██████████| 391/391 [00:46<00:00,  8.44it/s]\n"
          ]
        },
        {
          "output_type": "stream",
          "name": "stdout",
          "text": [
            "\n",
            "Test set: Average loss: 0.6912, Accuracy: 7618/10000 (76.18%)\n",
            "\n",
            "EPOCH: 17\n"
          ]
        },
        {
          "output_type": "stream",
          "name": "stderr",
          "text": [
            "Loss=0.8531157374382019 Batch_id=390 Accuracy=75.73: 100%|██████████| 391/391 [00:46<00:00,  8.39it/s]\n"
          ]
        },
        {
          "output_type": "stream",
          "name": "stdout",
          "text": [
            "\n",
            "Test set: Average loss: 0.6885, Accuracy: 7599/10000 (75.99%)\n",
            "\n",
            "EPOCH: 18\n"
          ]
        },
        {
          "output_type": "stream",
          "name": "stderr",
          "text": [
            "Loss=0.6595968008041382 Batch_id=390 Accuracy=75.69: 100%|██████████| 391/391 [00:46<00:00,  8.41it/s]\n"
          ]
        },
        {
          "output_type": "stream",
          "name": "stdout",
          "text": [
            "\n",
            "Test set: Average loss: 0.6638, Accuracy: 7725/10000 (77.25%)\n",
            "\n",
            "EPOCH: 19\n"
          ]
        },
        {
          "output_type": "stream",
          "name": "stderr",
          "text": [
            "Loss=0.675819456577301 Batch_id=390 Accuracy=76.27: 100%|██████████| 391/391 [00:46<00:00,  8.41it/s]\n"
          ]
        },
        {
          "output_type": "stream",
          "name": "stdout",
          "text": [
            "\n",
            "Test set: Average loss: 0.6390, Accuracy: 7815/10000 (78.15%)\n",
            "\n",
            "EPOCH: 20\n"
          ]
        },
        {
          "output_type": "stream",
          "name": "stderr",
          "text": [
            "Loss=0.7056198120117188 Batch_id=390 Accuracy=76.77: 100%|██████████| 391/391 [00:45<00:00,  8.54it/s]\n"
          ]
        },
        {
          "output_type": "stream",
          "name": "stdout",
          "text": [
            "\n",
            "Test set: Average loss: 0.6641, Accuracy: 7657/10000 (76.57%)\n",
            "\n"
          ]
        }
      ]
    },
    {
      "cell_type": "code",
      "source": [
        "\n",
        "train_losses1 = [t.cpu().item() for t in train_losses]"
      ],
      "metadata": {
        "id": "E_NHu4QdY1d0"
      },
      "execution_count": 13,
      "outputs": []
    },
    {
      "cell_type": "code",
      "source": [
        "%matplotlib inline\n",
        "import matplotlib.pyplot as plt\n",
        "import numpy as np\n",
        "\n",
        "print_graph(train_losses1,train_acc, test_losses,test_acc)"
      ],
      "metadata": {
        "colab": {
          "base_uri": "https://localhost:8080/",
          "height": 773
        },
        "id": "mOZUYQ5IciNL",
        "outputId": "351d30b5-0b00-45d8-9568-6757784e1319"
      },
      "execution_count": 15,
      "outputs": [
        {
          "output_type": "display_data",
          "data": {
            "text/plain": [
              "<Figure size 1500x1000 with 4 Axes>"
            ],
            "image/png": "[encoded data removed]"
          },
          "metadata": {}
        }
      ]
    },
    {
      "cell_type": "code",
      "source": [
        "wrong_prediction_list = []\n",
        "model.eval()\n",
        "for images, labels in test_loader:\n",
        "    images, labels = images.to(device), labels.to(device)\n",
        "    output = model(images)\n",
        "    pred = output.argmax(dim=1, keepdim=True)  # get the index of the max log-probability\n",
        "    match = pred.eq(labels.view_as(pred)).to('cpu').numpy()\n",
        "    for j, i in enumerate(match):\n",
        "        if(i == False):\n",
        "            wrong_prediction_list.append((images[j], pred[j].item(), labels[j].item()))"
      ],
      "metadata": {
        "id": "BJ6en6xOclAj"
      },
      "execution_count": 16,
      "outputs": []
    },
    {
      "cell_type": "code",
      "source": [
        "\n",
        "display_incorrect_images(wrong_prediction_list, n=10 )"
      ],
      "metadata": {
        "colab": {
          "base_uri": "https://localhost:8080/",
          "height": 606
        },
        "id": "jYnb0MK6cogi",
        "outputId": "aac6dc88-9d03-426f-f680-053c08bd1bee"
      },
      "execution_count": 17,
      "outputs": [
        {
          "output_type": "stream",
          "name": "stderr",
          "text": [
            "WARNING:matplotlib.image:Clipping input data to the valid range for imshow with RGB data ([0..1] for floats or [0..255] for integers).\n",
            "WARNING:matplotlib.image:Clipping input data to the valid range for imshow with RGB data ([0..1] for floats or [0..255] for integers).\n",
            "WARNING:matplotlib.image:Clipping input data to the valid range for imshow with RGB data ([0..1] for floats or [0..255] for integers).\n",
            "WARNING:matplotlib.image:Clipping input data to the valid range for imshow with RGB data ([0..1] for floats or [0..255] for integers).\n",
            "WARNING:matplotlib.image:Clipping input data to the valid range for imshow with RGB data ([0..1] for floats or [0..255] for integers).\n",
            "WARNING:matplotlib.image:Clipping input data to the valid range for imshow with RGB data ([0..1] for floats or [0..255] for integers).\n",
            "WARNING:matplotlib.image:Clipping input data to the valid range for imshow with RGB data ([0..1] for floats or [0..255] for integers).\n",
            "WARNING:matplotlib.image:Clipping input data to the valid range for imshow with RGB data ([0..1] for floats or [0..255] for integers).\n",
            "WARNING:matplotlib.image:Clipping input data to the valid range for imshow with RGB data ([0..1] for floats or [0..255] for integers).\n",
            "WARNING:matplotlib.image:Clipping input data to the valid range for imshow with RGB data ([0..1] for floats or [0..255] for integers).\n"
          ]
        },
        {
          "output_type": "display_data",
          "data": {
            "text/plain": [
              "<Figure size 1000x500 with 10 Axes>"
            ],
            "image/png": "[encoded data removed]"
          },
          "metadata": {}
        }
      ]
    },
    {
      "cell_type": "code",
      "source": [],
      "metadata": {
        "id": "Nv9izASNhy9k"
      },
      "execution_count": null,
      "outputs": []
    }
  ]
}